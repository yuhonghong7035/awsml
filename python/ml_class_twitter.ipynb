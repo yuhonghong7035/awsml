{
 "cells": [
  {
   "cell_type": "code",
   "execution_count": 1,
   "metadata": {
    "collapsed": true
   },
   "outputs": [],
   "source": [
    "%matplotlib inline\n",
    "import sys\n",
    "import numpy as np\n",
    "import pandas as pd\n",
    "import matplotlib.pyplot as plt\n",
    "import math\n",
    "import os"
   ]
  },
  {
   "cell_type": "code",
   "execution_count": 2,
   "metadata": {
    "collapsed": false
   },
   "outputs": [],
   "source": [
    "data_path = r'C:\\AWSMLCourse\\Data\\ClassExamples\\TwitterAWS'"
   ]
  },
  {
   "cell_type": "code",
   "execution_count": 3,
   "metadata": {
    "collapsed": false
   },
   "outputs": [],
   "source": [
    "df = pd.read_csv(os.path.join(data_path,'aml_training_dataset.csv'))"
   ]
  },
  {
   "cell_type": "code",
   "execution_count": 4,
   "metadata": {
    "collapsed": false
   },
   "outputs": [
    {
     "data": {
      "text/plain": [
       "Index(['created_at_in_seconds', 'description', 'favorite_count', 'favorited',\n",
       "       'favourites_count', 'followers_count', 'friends_count', 'geo_enabled',\n",
       "       'in_reply_to_screen_name', 'in_reply_to_status_id',\n",
       "       'in_reply_to_user_id', 'location', 'r.created_at_in_seconds',\n",
       "       'r.description', 'r.favorite_count', 'r.favorited',\n",
       "       'r.favourites_count', 'r.followers_count', 'r.friends_count',\n",
       "       'r.geo_enabled', 'r.in_reply_to_screen_name', 'r.in_reply_to_status_id',\n",
       "       'r.in_reply_to_user_id', 'r.location', 'r.retweet_count',\n",
       "       'r.screen_name', 'r.sid', 'r.statuses_count', 'r.text', 'r.time_zone',\n",
       "       'r.uid', 'r.user.name', 'r.utc_offset', 'r.verified', 'retweet_count',\n",
       "       'screen_name', 'sid', 'statuses_count', 'text', 'time_zone', 'uid',\n",
       "       'user.name', 'utc_offset', 'verified', 'trainingLabel'],\n",
       "      dtype='object')"
      ]
     },
     "execution_count": 4,
     "metadata": {},
     "output_type": "execute_result"
    }
   ],
   "source": [
    "df.columns"
   ]
  },
  {
   "cell_type": "code",
   "execution_count": 5,
   "metadata": {
    "collapsed": false
   },
   "outputs": [
    {
     "data": {
      "text/plain": [
       "(10701, 45)"
      ]
     },
     "execution_count": 5,
     "metadata": {},
     "output_type": "execute_result"
    }
   ],
   "source": [
    "df.shape"
   ]
  },
  {
   "cell_type": "code",
   "execution_count": 6,
   "metadata": {
    "collapsed": false
   },
   "outputs": [
    {
     "data": {
      "text/html": [
       "<div>\n",
       "<table border=\"1\" class=\"dataframe\">\n",
       "  <thead>\n",
       "    <tr style=\"text-align: right;\">\n",
       "      <th></th>\n",
       "      <th>created_at_in_seconds</th>\n",
       "      <th>description</th>\n",
       "      <th>favorite_count</th>\n",
       "      <th>favorited</th>\n",
       "      <th>favourites_count</th>\n",
       "      <th>followers_count</th>\n",
       "      <th>friends_count</th>\n",
       "      <th>geo_enabled</th>\n",
       "      <th>in_reply_to_screen_name</th>\n",
       "      <th>in_reply_to_status_id</th>\n",
       "      <th>...</th>\n",
       "      <th>screen_name</th>\n",
       "      <th>sid</th>\n",
       "      <th>statuses_count</th>\n",
       "      <th>text</th>\n",
       "      <th>time_zone</th>\n",
       "      <th>uid</th>\n",
       "      <th>user.name</th>\n",
       "      <th>utc_offset</th>\n",
       "      <th>verified</th>\n",
       "      <th>trainingLabel</th>\n",
       "    </tr>\n",
       "  </thead>\n",
       "  <tbody>\n",
       "    <tr>\n",
       "      <th>0</th>\n",
       "      <td>1410411075</td>\n",
       "      <td>GM for @theCUBE, the Leading Interview format ...</td>\n",
       "      <td>0</td>\n",
       "      <td>False</td>\n",
       "      <td>1760</td>\n",
       "      <td>1265</td>\n",
       "      <td>2001</td>\n",
       "      <td>True</td>\n",
       "      <td>JeffBezosAmazon</td>\n",
       "      <td>NaN</td>\n",
       "      <td>...</td>\n",
       "      <td>JeffFrick</td>\n",
       "      <td>509927125139202048</td>\n",
       "      <td>13506</td>\n",
       "      <td>@JeffBezosAmazon @amazon @awscloud -&gt; Jeff get...</td>\n",
       "      <td>Pacific Time (US &amp; Canada)</td>\n",
       "      <td>19747132</td>\n",
       "      <td>Jeff Frick</td>\n",
       "      <td>-25200.0</td>\n",
       "      <td>False</td>\n",
       "      <td>0</td>\n",
       "    </tr>\n",
       "    <tr>\n",
       "      <th>1</th>\n",
       "      <td>1410418911</td>\n",
       "      <td>Everything is Content covers tech #conferences...</td>\n",
       "      <td>0</td>\n",
       "      <td>False</td>\n",
       "      <td>22</td>\n",
       "      <td>183</td>\n",
       "      <td>154</td>\n",
       "      <td>True</td>\n",
       "      <td>NaN</td>\n",
       "      <td>NaN</td>\n",
       "      <td>...</td>\n",
       "      <td>contentpurveyor</td>\n",
       "      <td>509959993781919744</td>\n",
       "      <td>1816</td>\n",
       "      <td>Visit @awscloud Sept 11-16 #Amsterdam to learn...</td>\n",
       "      <td>Eastern Time (US &amp; Canada)</td>\n",
       "      <td>2465523308</td>\n",
       "      <td>ContentPurveyor</td>\n",
       "      <td>-14400.0</td>\n",
       "      <td>False</td>\n",
       "      <td>1</td>\n",
       "    </tr>\n",
       "    <tr>\n",
       "      <th>2</th>\n",
       "      <td>1410422657</td>\n",
       "      <td>Founder CEO @mailcloud, previously @zaggora. G...</td>\n",
       "      <td>6</td>\n",
       "      <td>False</td>\n",
       "      <td>4870</td>\n",
       "      <td>3733</td>\n",
       "      <td>301</td>\n",
       "      <td>True</td>\n",
       "      <td>NaN</td>\n",
       "      <td>NaN</td>\n",
       "      <td>...</td>\n",
       "      <td>malcolmbell</td>\n",
       "      <td>509975703421739008</td>\n",
       "      <td>4244</td>\n",
       "      <td>Super excited to take this selfie at #seedcamp...</td>\n",
       "      <td>NaN</td>\n",
       "      <td>135183746</td>\n",
       "      <td>Malcolm Bell</td>\n",
       "      <td>NaN</td>\n",
       "      <td>False</td>\n",
       "      <td>0</td>\n",
       "    </tr>\n",
       "    <tr>\n",
       "      <th>3</th>\n",
       "      <td>1410424594</td>\n",
       "      <td>Accelerating startups from prototype to IPO wi...</td>\n",
       "      <td>7</td>\n",
       "      <td>False</td>\n",
       "      <td>2393</td>\n",
       "      <td>50783</td>\n",
       "      <td>3259</td>\n",
       "      <td>True</td>\n",
       "      <td>NaN</td>\n",
       "      <td>NaN</td>\n",
       "      <td>...</td>\n",
       "      <td>seedcamp</td>\n",
       "      <td>509983830275407872</td>\n",
       "      <td>5934</td>\n",
       "      <td>The stage is set at @awscloud in Holburn for o...</td>\n",
       "      <td>London</td>\n",
       "      <td>15317462</td>\n",
       "      <td>seedcamp</td>\n",
       "      <td>0.0</td>\n",
       "      <td>False</td>\n",
       "      <td>0</td>\n",
       "    </tr>\n",
       "    <tr>\n",
       "      <th>4</th>\n",
       "      <td>1410425306</td>\n",
       "      <td>Online Investment Manager</td>\n",
       "      <td>0</td>\n",
       "      <td>False</td>\n",
       "      <td>50</td>\n",
       "      <td>86</td>\n",
       "      <td>237</td>\n",
       "      <td>False</td>\n",
       "      <td>NaN</td>\n",
       "      <td>NaN</td>\n",
       "      <td>...</td>\n",
       "      <td>ZenAssets</td>\n",
       "      <td>509986815164813312</td>\n",
       "      <td>120</td>\n",
       "      <td>RT @seedcamp The stage is set at @awscloud in ...</td>\n",
       "      <td>Kyiv</td>\n",
       "      <td>2207428117</td>\n",
       "      <td>Zen Assets</td>\n",
       "      <td>7200.0</td>\n",
       "      <td>False</td>\n",
       "      <td>0</td>\n",
       "    </tr>\n",
       "  </tbody>\n",
       "</table>\n",
       "<p>5 rows × 45 columns</p>\n",
       "</div>"
      ],
      "text/plain": [
       "   created_at_in_seconds                                        description  \\\n",
       "0             1410411075  GM for @theCUBE, the Leading Interview format ...   \n",
       "1             1410418911  Everything is Content covers tech #conferences...   \n",
       "2             1410422657  Founder CEO @mailcloud, previously @zaggora. G...   \n",
       "3             1410424594  Accelerating startups from prototype to IPO wi...   \n",
       "4             1410425306                          Online Investment Manager   \n",
       "\n",
       "   favorite_count favorited  favourites_count  followers_count  friends_count  \\\n",
       "0               0     False              1760             1265           2001   \n",
       "1               0     False                22              183            154   \n",
       "2               6     False              4870             3733            301   \n",
       "3               7     False              2393            50783           3259   \n",
       "4               0     False                50               86            237   \n",
       "\n",
       "  geo_enabled in_reply_to_screen_name  in_reply_to_status_id      ...       \\\n",
       "0        True         JeffBezosAmazon                    NaN      ...        \n",
       "1        True                     NaN                    NaN      ...        \n",
       "2        True                     NaN                    NaN      ...        \n",
       "3        True                     NaN                    NaN      ...        \n",
       "4       False                     NaN                    NaN      ...        \n",
       "\n",
       "       screen_name                 sid  statuses_count  \\\n",
       "0        JeffFrick  509927125139202048           13506   \n",
       "1  contentpurveyor  509959993781919744            1816   \n",
       "2      malcolmbell  509975703421739008            4244   \n",
       "3         seedcamp  509983830275407872            5934   \n",
       "4        ZenAssets  509986815164813312             120   \n",
       "\n",
       "                                                text  \\\n",
       "0  @JeffBezosAmazon @amazon @awscloud -> Jeff get...   \n",
       "1  Visit @awscloud Sept 11-16 #Amsterdam to learn...   \n",
       "2  Super excited to take this selfie at #seedcamp...   \n",
       "3  The stage is set at @awscloud in Holburn for o...   \n",
       "4  RT @seedcamp The stage is set at @awscloud in ...   \n",
       "\n",
       "                    time_zone         uid        user.name  utc_offset  \\\n",
       "0  Pacific Time (US & Canada)    19747132       Jeff Frick    -25200.0   \n",
       "1  Eastern Time (US & Canada)  2465523308  ContentPurveyor    -14400.0   \n",
       "2                         NaN   135183746     Malcolm Bell         NaN   \n",
       "3                      London    15317462         seedcamp         0.0   \n",
       "4                        Kyiv  2207428117       Zen Assets      7200.0   \n",
       "\n",
       "   verified trainingLabel  \n",
       "0     False             0  \n",
       "1     False             1  \n",
       "2     False             0  \n",
       "3     False             0  \n",
       "4     False             0  \n",
       "\n",
       "[5 rows x 45 columns]"
      ]
     },
     "execution_count": 6,
     "metadata": {},
     "output_type": "execute_result"
    }
   ],
   "source": [
    "df.head()"
   ]
  },
  {
   "cell_type": "code",
   "execution_count": 7,
   "metadata": {
    "collapsed": false
   },
   "outputs": [
    {
     "data": {
      "text/plain": [
       "0        @JeffBezosAmazon @amazon @awscloud -> Jeff get...\n",
       "1        Visit @awscloud Sept 11-16 #Amsterdam to learn...\n",
       "2        Super excited to take this selfie at #seedcamp...\n",
       "3        The stage is set at @awscloud in Holburn for o...\n",
       "4        RT @seedcamp The stage is set at @awscloud in ...\n",
       "5        Warming up for the final pitches at @seedcamp ...\n",
       "6        That is one full room at @awscloud as our ment...\n",
       "7        Cloud Pioneer http://t.co/Kox4nZ8ajx @awscloud...\n",
       "8        Standing room only @seedcamp London week, host...\n",
       "9        Thanks to @AWScloud for hosting us today and h...\n",
       "10       RT @pablo_tech: Cloud Pioneer http://t.co/4vjW...\n",
       "11       Don't Miss the Free Drinks and the Chance to S...\n",
       "12       @amazon @awscloud teams with @Riverbed to offe...\n",
       "13       @awscloud autoscaling group on the paper is gr...\n",
       "14       The mentoring is in full swing at @awscloud as...\n",
       "15       #Riverbed and @AWScloud to provide up to 48TB ...\n",
       "16       It's insulting that @awscloud marked an EBS vo...\n",
       "17       Mentor Madness / Investor Insanity at @awsclou...\n",
       "18       #BigData skills growing “exponentially,” says ...\n",
       "19       1500 parallel processing cores, available in a...\n",
       "20       #Riverbed & @AWScloud to provide up to 48TB of...\n",
       "21       Switch-on Your Enterprise Cloud Audit with Clo...\n",
       "22       Raising fund lessons @awscloud courtesy of @ry...\n",
       "23       After a day of mentoring it's party time on th...\n",
       "24       dear @awscloud it would be really great to hav...\n",
       "25       Drinking in the view while drinking champagne ...\n",
       "26       No one should leave critical data unprotected—...\n",
       "27       @awscloud is winning the price war but innovat...\n",
       "28       @awscloud has become the first cloud provider ...\n",
       "29       @TfLOfficial new responsive website is running...\n",
       "                               ...                        \n",
       "10671    How @papermagazine used ingenuity and @awsclou...\n",
       "10672    Another integration with @awscloud? Streaming ...\n",
       "10673    Great presentation with @fisherpk from @alertl...\n",
       "10674    Top @AWSCloud Consulting Partner Award Goes to...\n",
       "10675    .@awscloud Boosted #Cloud Reliability in 2014,...\n",
       "10676    Deploy a Hybrid Storage Solution Using Avere’s...\n",
       "10677    It's always funny when AWS Account Managers of...\n",
       "10678    How PAPER Magazine’s web team used @gluster an...\n",
       "10679    Trying to use @awscloud Elastic Beanstalk to d...\n",
       "10680    Oh! puedes mandar Push a apps con SNS de @awsc...\n",
       "10681    Performance metrics available for new @awsclou...\n",
       "10682    The Stunning Scale of @AWScloud and What it Me...\n",
       "10683    @awscloud @Amazon AWS contract: you can never ...\n",
       "10684    AWS Certified Solutions Architect Exam: Sample...\n",
       "10685    Amazon Web Services IAM Part 4 - Sign-in crede...\n",
       "10686    Good turnout for @sureskills cloud event. Than...\n",
       "10687    SureSkills Technical Cloud Evangelist Calvin R...\n",
       "10688    Ravello @ravellosystems releases next evolutio...\n",
       "10689    @awscloud - the white paper by Trend Micro lin...\n",
       "10690    Our Cloud Q&A has Kicked Off with @VMware @Mic...\n",
       "10691    vCloud @vCloud Air On-Demand Beta Review - by ...\n",
       "10692    Building a scalable web app on @awscloud, lots...\n",
       "10693    ICYMI - Amazon uses WIND POWER to propel its c...\n",
       "10694    Of the Big Three Cloud Providers #AWS Was Most...\n",
       "10695    Top @AWSCloud Consulting Partner Award Goes to...\n",
       "10696    .@Amazon's cloud computing segment may be wort...\n",
       "10697    Cycle customers @NovartisScience & @HGSTStorag...\n",
       "10698    How to scale your enterprise #datawarehouse ne...\n",
       "10699    @FreeCodeCamp Friends at Free Code Camp, any c...\n",
       "10700    @CodeNewbies Friends, do you think your commun...\n",
       "Name: text, dtype: object"
      ]
     },
     "execution_count": 7,
     "metadata": {},
     "output_type": "execute_result"
    }
   ],
   "source": [
    "df.text"
   ]
  },
  {
   "cell_type": "code",
   "execution_count": null,
   "metadata": {
    "collapsed": true
   },
   "outputs": [],
   "source": []
  }
 ],
 "metadata": {
  "kernelspec": {
   "display_name": "Python 3",
   "language": "python",
   "name": "python3"
  },
  "language_info": {
   "codemirror_mode": {
    "name": "ipython",
    "version": 3
   },
   "file_extension": ".py",
   "mimetype": "text/x-python",
   "name": "python",
   "nbconvert_exporter": "python",
   "pygments_lexer": "ipython3",
   "version": "3.5.1"
  }
 },
 "nbformat": 4,
 "nbformat_minor": 0
}
