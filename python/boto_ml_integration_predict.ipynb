{
 "cells": [
  {
   "cell_type": "code",
   "execution_count": 1,
   "metadata": {
    "collapsed": true
   },
   "outputs": [],
   "source": [
    "import boto3"
   ]
  },
  {
   "cell_type": "code",
   "execution_count": 2,
   "metadata": {
    "collapsed": true
   },
   "outputs": [],
   "source": [
    "ml_model_id= 'ml-E5Me5YzfZSp'\n",
    "end_point = 'https://realtime.machinelearning.us-east-1.amazonaws.com'"
   ]
  },
  {
   "cell_type": "code",
   "execution_count": 13,
   "metadata": {
    "collapsed": true
   },
   "outputs": [],
   "source": [
    "session = boto3.Session(\n",
    "    region_name='us-east-1',\n",
    "    profile_name='ml_user_predict')"
   ]
  },
  {
   "cell_type": "code",
   "execution_count": 14,
   "metadata": {
    "collapsed": false
   },
   "outputs": [],
   "source": [
    "ml = session.client('machinelearning')"
   ]
  },
  {
   "cell_type": "code",
   "execution_count": 15,
   "metadata": {
    "collapsed": true
   },
   "outputs": [],
   "source": [
    "iris_record = \\\n",
    "    {\"Row\":\"1\",\n",
    "     \"sepal_length\":\"5.4\",\n",
    "     \"sepal_width\":\"3.0\",\n",
    "     \"petal_length\":\"4.5\",\n",
    "     \"petal_width\":\"1.5\"}"
   ]
  },
  {
   "cell_type": "code",
   "execution_count": 16,
   "metadata": {
    "collapsed": false
   },
   "outputs": [
    {
     "data": {
      "text/plain": [
       "{'Row': '1',\n",
       " 'petal_length': '4.5',\n",
       " 'petal_width': '1.5',\n",
       " 'sepal_length': '5.4',\n",
       " 'sepal_width': '3.0'}"
      ]
     },
     "execution_count": 16,
     "metadata": {},
     "output_type": "execute_result"
    }
   ],
   "source": [
    "iris_record"
   ]
  },
  {
   "cell_type": "code",
   "execution_count": 17,
   "metadata": {
    "collapsed": false
   },
   "outputs": [],
   "source": [
    "iris_prediction = ml.predict(MLModelId = ml_model_id, \n",
    "           Record = iris_record, \n",
    "           PredictEndpoint = end_point)"
   ]
  },
  {
   "cell_type": "code",
   "execution_count": 18,
   "metadata": {
    "collapsed": false
   },
   "outputs": [
    {
     "data": {
      "text/plain": [
       "{'details': {'Algorithm': 'SGD', 'PredictiveModelType': 'MULTICLASS'},\n",
       " 'predictedLabel': 'Iris-versicolor',\n",
       " 'predictedScores': {'Iris-setosa': 0.0025346577167510986,\n",
       "  'Iris-versicolor': 0.9955835938453674,\n",
       "  'Iris-virginica': 0.0018817270174622536}}"
      ]
     },
     "execution_count": 18,
     "metadata": {},
     "output_type": "execute_result"
    }
   ],
   "source": [
    "iris_prediction['Prediction']"
   ]
  },
  {
   "cell_type": "code",
   "execution_count": 19,
   "metadata": {
    "collapsed": false
   },
   "outputs": [
    {
     "data": {
      "text/plain": [
       "'Iris-versicolor'"
      ]
     },
     "execution_count": 19,
     "metadata": {},
     "output_type": "execute_result"
    }
   ],
   "source": [
    "iris_prediction['Prediction']['predictedLabel']"
   ]
  },
  {
   "cell_type": "code",
   "execution_count": 20,
   "metadata": {
    "collapsed": false
   },
   "outputs": [
    {
     "data": {
      "text/plain": [
       "{'Prediction': {'details': {'Algorithm': 'SGD',\n",
       "   'PredictiveModelType': 'MULTICLASS'},\n",
       "  'predictedLabel': 'Iris-versicolor',\n",
       "  'predictedScores': {'Iris-setosa': 0.0025346577167510986,\n",
       "   'Iris-versicolor': 0.9955835938453674,\n",
       "   'Iris-virginica': 0.0018817270174622536}},\n",
       " 'ResponseMetadata': {'HTTPHeaders': {'content-length': '248',\n",
       "   'content-type': 'application/x-amz-json-1.1',\n",
       "   'date': 'Sun, 23 Oct 2016 03:56:29 GMT',\n",
       "   'x-amzn-requestid': 'ae3fe387-98d4-11e6-a722-07f89b4d25cb'},\n",
       "  'HTTPStatusCode': 200,\n",
       "  'RequestId': 'ae3fe387-98d4-11e6-a722-07f89b4d25cb',\n",
       "  'RetryAttempts': 0}}"
      ]
     },
     "execution_count": 20,
     "metadata": {},
     "output_type": "execute_result"
    }
   ],
   "source": [
    "iris_prediction"
   ]
  },
  {
   "cell_type": "code",
   "execution_count": null,
   "metadata": {
    "collapsed": true
   },
   "outputs": [],
   "source": []
  },
  {
   "cell_type": "code",
   "execution_count": null,
   "metadata": {
    "collapsed": true
   },
   "outputs": [],
   "source": []
  }
 ],
 "metadata": {
  "anaconda-cloud": {},
  "kernelspec": {
   "display_name": "Python 3",
   "language": "python",
   "name": "python3"
  },
  "language_info": {
   "codemirror_mode": {
    "name": "ipython",
    "version": 3
   },
   "file_extension": ".py",
   "mimetype": "text/x-python",
   "name": "python",
   "nbconvert_exporter": "python",
   "pygments_lexer": "ipython3",
   "version": "3.5.1"
  }
 },
 "nbformat": 4,
 "nbformat_minor": 0
}
