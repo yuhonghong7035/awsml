{
 "cells": [
  {
   "cell_type": "code",
   "execution_count": 1,
   "metadata": {
    "collapsed": true
   },
   "outputs": [],
   "source": [
    "%matplotlib inline\n",
    "import sys\n",
    "import numpy as np\n",
    "import pandas as pd\n",
    "import matplotlib.pyplot as plt\n",
    "import math\n",
    "import os"
   ]
  },
  {
   "cell_type": "markdown",
   "metadata": {},
   "source": [
    "<h4>Hands-on: Linear Regression with AWS ML - Normalization Demo</h4>\n",
    "Model in this example is of the form:<br>\n",
    "Target = x^2 + x + c<br>\n",
    "\n",
    "However, what will happen if we have higher order polynomials or other complex features. How will this impact the model prediction? <br>\n",
    "\n",
    "<b>Test 1</b><br>\n",
    "Input Features: x, x^2, x^3, x^4 <br>\n",
    "Output/Target: y_noisy<br>\n",
    "Objective: How does model behave when there are several additional features are orders of magnitude different in scale\n",
    "\n",
    "<b>Test 2</b><br>\n",
    "Input Features: x, x^2, x^3, x^4 - features normalized using AWS ML Transformation<br>\n",
    "Output/Target: y_noisy<br>\n",
    "Objective: How does normalization improve prediction accuracy<br>"
   ]
  },
  {
   "cell_type": "code",
   "execution_count": 2,
   "metadata": {
    "collapsed": false
   },
   "outputs": [],
   "source": [
    "def quad_func (x):\n",
    "    return 5*x**2 -23*x + 47"
   ]
  },
  {
   "cell_type": "code",
   "execution_count": null,
   "metadata": {
    "collapsed": true
   },
   "outputs": [],
   "source": [
    "# Training Set: 140 samples\n",
    "# Eval Set: 60 samples\n",
    "# Test Set: 60 samples\n",
    "# Total: 260 samples"
   ]
  },
  {
   "cell_type": "code",
   "execution_count": 4,
   "metadata": {
    "collapsed": false
   },
   "outputs": [],
   "source": [
    "np.random.seed(5)\n",
    "samples = 260\n",
    "x_vals = pd.Series(np.random.rand(samples)*20)\n",
    "x2_vals = x_vals ** 2\n",
    "x3_vals = x_vals ** 3\n",
    "x4_vals = x_vals ** 4\n",
    "\n",
    "y_vals = x_vals.map(quad_func)\n",
    "y_noisy_vals = y_vals + np.random.randn(samples) * 50"
   ]
  },
  {
   "cell_type": "code",
   "execution_count": 5,
   "metadata": {
    "collapsed": true
   },
   "outputs": [],
   "source": [
    "df = pd.DataFrame(\n",
    "    {'x':x_vals, \n",
    "     'x2': x2_vals ,\n",
    "     'x3': x3_vals ,\n",
    "     'x4': x4_vals ,\n",
    "     'y':y_vals,\n",
    "     'y_noisy':y_noisy_vals})"
   ]
  },
  {
   "cell_type": "code",
   "execution_count": 6,
   "metadata": {
    "collapsed": false
   },
   "outputs": [
    {
     "data": {
      "text/html": [
       "<div>\n",
       "<table border=\"1\" class=\"dataframe\">\n",
       "  <thead>\n",
       "    <tr style=\"text-align: right;\">\n",
       "      <th></th>\n",
       "      <th>x</th>\n",
       "      <th>x2</th>\n",
       "      <th>x3</th>\n",
       "      <th>x4</th>\n",
       "      <th>y</th>\n",
       "      <th>y_noisy</th>\n",
       "    </tr>\n",
       "  </thead>\n",
       "  <tbody>\n",
       "    <tr>\n",
       "      <th>0</th>\n",
       "      <td>4.439863</td>\n",
       "      <td>19.712387</td>\n",
       "      <td>87.520307</td>\n",
       "      <td>388.578209</td>\n",
       "      <td>43.445077</td>\n",
       "      <td>88.950606</td>\n",
       "    </tr>\n",
       "    <tr>\n",
       "      <th>1</th>\n",
       "      <td>17.414646</td>\n",
       "      <td>303.269900</td>\n",
       "      <td>5281.337982</td>\n",
       "      <td>91972.632008</td>\n",
       "      <td>1162.812637</td>\n",
       "      <td>1193.704875</td>\n",
       "    </tr>\n",
       "    <tr>\n",
       "      <th>2</th>\n",
       "      <td>4.134383</td>\n",
       "      <td>17.093124</td>\n",
       "      <td>70.669522</td>\n",
       "      <td>292.174877</td>\n",
       "      <td>37.374807</td>\n",
       "      <td>62.355709</td>\n",
       "    </tr>\n",
       "    <tr>\n",
       "      <th>3</th>\n",
       "      <td>18.372218</td>\n",
       "      <td>337.538400</td>\n",
       "      <td>6201.329123</td>\n",
       "      <td>113932.171524</td>\n",
       "      <td>1312.130983</td>\n",
       "      <td>1254.553770</td>\n",
       "    </tr>\n",
       "    <tr>\n",
       "      <th>4</th>\n",
       "      <td>9.768224</td>\n",
       "      <td>95.418196</td>\n",
       "      <td>932.066288</td>\n",
       "      <td>9104.632078</td>\n",
       "      <td>299.421832</td>\n",
       "      <td>268.896012</td>\n",
       "    </tr>\n",
       "  </tbody>\n",
       "</table>\n",
       "</div>"
      ],
      "text/plain": [
       "           x          x2           x3             x4            y      y_noisy\n",
       "0   4.439863   19.712387    87.520307     388.578209    43.445077    88.950606\n",
       "1  17.414646  303.269900  5281.337982   91972.632008  1162.812637  1193.704875\n",
       "2   4.134383   17.093124    70.669522     292.174877    37.374807    62.355709\n",
       "3  18.372218  337.538400  6201.329123  113932.171524  1312.130983  1254.553770\n",
       "4   9.768224   95.418196   932.066288    9104.632078   299.421832   268.896012"
      ]
     },
     "execution_count": 6,
     "metadata": {},
     "output_type": "execute_result"
    }
   ],
   "source": [
    "df.head()"
   ]
  },
  {
   "cell_type": "code",
   "execution_count": 7,
   "metadata": {
    "collapsed": false
   },
   "outputs": [
    {
     "data": {
      "text/plain": [
       "<matplotlib.legend.Legend at 0x27c222a7c88>"
      ]
     },
     "execution_count": 7,
     "metadata": {},
     "output_type": "execute_result"
    },
    {
     "data": {
      "image/png": "[encoded data removed]",
      "text/plain": [
       "<matplotlib.figure.Figure at 0x27c22209278>"
      ]
     },
     "metadata": {},
     "output_type": "display_data"
    }
   ],
   "source": [
    "#df.plot(x='x',y='y', grid=True, kind='scatter')\n",
    "plt.scatter(x=df['x'],y=df['y'],color='r',label='y',)\n",
    "plt.scatter(x=df['x'],y=df['y_noisy'],color='b',label='y noisy')\n",
    "plt.scatter(x=df['x'],y=df['x2'],color='k',label='x^2')\n",
    "plt.scatter(x=df['x'],y=df['x3'],color='g',label='x^3')\n",
    "plt.scatter(x=df['x'],y=df['x4'],color='y',label='x^4')\n",
    "plt.ylim((-500,2000))\n",
    "plt.xlabel('x')\n",
    "plt.ylabel('Target Attribute')\n",
    "plt.title('Higher Order Polynomial Features')\n",
    "plt.grid(True)\n",
    "plt.legend()"
   ]
  },
  {
   "cell_type": "code",
   "execution_count": 8,
   "metadata": {
    "collapsed": false
   },
   "outputs": [
    {
     "data": {
      "text/html": [
       "<div>\n",
       "<table border=\"1\" class=\"dataframe\">\n",
       "  <thead>\n",
       "    <tr style=\"text-align: right;\">\n",
       "      <th></th>\n",
       "      <th>x</th>\n",
       "      <th>x2</th>\n",
       "      <th>x3</th>\n",
       "      <th>x4</th>\n",
       "      <th>y</th>\n",
       "      <th>y_noisy</th>\n",
       "    </tr>\n",
       "  </thead>\n",
       "  <tbody>\n",
       "    <tr>\n",
       "      <th>x</th>\n",
       "      <td>1.000000</td>\n",
       "      <td>0.968304</td>\n",
       "      <td>0.916886</td>\n",
       "      <td>0.866451</td>\n",
       "      <td>0.948299</td>\n",
       "      <td>0.940940</td>\n",
       "    </tr>\n",
       "    <tr>\n",
       "      <th>x2</th>\n",
       "      <td>0.968304</td>\n",
       "      <td>1.000000</td>\n",
       "      <td>0.986075</td>\n",
       "      <td>0.958368</td>\n",
       "      <td>0.997515</td>\n",
       "      <td>0.991770</td>\n",
       "    </tr>\n",
       "    <tr>\n",
       "      <th>x3</th>\n",
       "      <td>0.916886</td>\n",
       "      <td>0.986075</td>\n",
       "      <td>1.000000</td>\n",
       "      <td>0.992140</td>\n",
       "      <td>0.994326</td>\n",
       "      <td>0.989924</td>\n",
       "    </tr>\n",
       "    <tr>\n",
       "      <th>x4</th>\n",
       "      <td>0.866451</td>\n",
       "      <td>0.958368</td>\n",
       "      <td>0.992140</td>\n",
       "      <td>1.000000</td>\n",
       "      <td>0.973345</td>\n",
       "      <td>0.970022</td>\n",
       "    </tr>\n",
       "    <tr>\n",
       "      <th>y</th>\n",
       "      <td>0.948299</td>\n",
       "      <td>0.997515</td>\n",
       "      <td>0.994326</td>\n",
       "      <td>0.973345</td>\n",
       "      <td>1.000000</td>\n",
       "      <td>0.994777</td>\n",
       "    </tr>\n",
       "    <tr>\n",
       "      <th>y_noisy</th>\n",
       "      <td>0.940940</td>\n",
       "      <td>0.991770</td>\n",
       "      <td>0.989924</td>\n",
       "      <td>0.970022</td>\n",
       "      <td>0.994777</td>\n",
       "      <td>1.000000</td>\n",
       "    </tr>\n",
       "  </tbody>\n",
       "</table>\n",
       "</div>"
      ],
      "text/plain": [
       "                x        x2        x3        x4         y   y_noisy\n",
       "x        1.000000  0.968304  0.916886  0.866451  0.948299  0.940940\n",
       "x2       0.968304  1.000000  0.986075  0.958368  0.997515  0.991770\n",
       "x3       0.916886  0.986075  1.000000  0.992140  0.994326  0.989924\n",
       "x4       0.866451  0.958368  0.992140  1.000000  0.973345  0.970022\n",
       "y        0.948299  0.997515  0.994326  0.973345  1.000000  0.994777\n",
       "y_noisy  0.940940  0.991770  0.989924  0.970022  0.994777  1.000000"
      ]
     },
     "execution_count": 8,
     "metadata": {},
     "output_type": "execute_result"
    }
   ],
   "source": [
    "df.corr()"
   ]
  },
  {
   "cell_type": "code",
   "execution_count": 9,
   "metadata": {
    "collapsed": false
   },
   "outputs": [
    {
     "data": {
      "text/html": [
       "<div>\n",
       "<table border=\"1\" class=\"dataframe\">\n",
       "  <thead>\n",
       "    <tr style=\"text-align: right;\">\n",
       "      <th></th>\n",
       "      <th>x</th>\n",
       "      <th>x2</th>\n",
       "      <th>x3</th>\n",
       "      <th>x4</th>\n",
       "      <th>y</th>\n",
       "      <th>y_noisy</th>\n",
       "    </tr>\n",
       "  </thead>\n",
       "  <tbody>\n",
       "    <tr>\n",
       "      <th>count</th>\n",
       "      <td>260.000000</td>\n",
       "      <td>260.000000</td>\n",
       "      <td>2.600000e+02</td>\n",
       "      <td>2.600000e+02</td>\n",
       "      <td>260.000000</td>\n",
       "      <td>260.000000</td>\n",
       "    </tr>\n",
       "    <tr>\n",
       "      <th>mean</th>\n",
       "      <td>10.060419</td>\n",
       "      <td>135.264356</td>\n",
       "      <td>2.044036e+03</td>\n",
       "      <td>3.291655e+04</td>\n",
       "      <td>491.932133</td>\n",
       "      <td>492.434283</td>\n",
       "    </tr>\n",
       "    <tr>\n",
       "      <th>std</th>\n",
       "      <td>5.846691</td>\n",
       "      <td>121.146840</td>\n",
       "      <td>2.313183e+03</td>\n",
       "      <td>4.371458e+04</td>\n",
       "      <td>476.707355</td>\n",
       "      <td>478.849813</td>\n",
       "    </tr>\n",
       "    <tr>\n",
       "      <th>min</th>\n",
       "      <td>0.007658</td>\n",
       "      <td>0.000059</td>\n",
       "      <td>4.490833e-07</td>\n",
       "      <td>3.439029e-09</td>\n",
       "      <td>20.571880</td>\n",
       "      <td>-112.575294</td>\n",
       "    </tr>\n",
       "    <tr>\n",
       "      <th>25%</th>\n",
       "      <td>4.905919</td>\n",
       "      <td>24.068179</td>\n",
       "      <td>1.180779e+02</td>\n",
       "      <td>5.792902e+02</td>\n",
       "      <td>54.504751</td>\n",
       "      <td>77.826912</td>\n",
       "    </tr>\n",
       "    <tr>\n",
       "      <th>50%</th>\n",
       "      <td>10.250928</td>\n",
       "      <td>105.083439</td>\n",
       "      <td>1.077242e+03</td>\n",
       "      <td>1.104334e+04</td>\n",
       "      <td>336.645858</td>\n",
       "      <td>327.241317</td>\n",
       "    </tr>\n",
       "    <tr>\n",
       "      <th>75%</th>\n",
       "      <td>15.400290</td>\n",
       "      <td>237.168945</td>\n",
       "      <td>3.652471e+03</td>\n",
       "      <td>5.624912e+04</td>\n",
       "      <td>878.638053</td>\n",
       "      <td>874.702202</td>\n",
       "    </tr>\n",
       "    <tr>\n",
       "      <th>max</th>\n",
       "      <td>19.944509</td>\n",
       "      <td>397.783452</td>\n",
       "      <td>7.933596e+03</td>\n",
       "      <td>1.582317e+05</td>\n",
       "      <td>1577.193548</td>\n",
       "      <td>1664.910364</td>\n",
       "    </tr>\n",
       "  </tbody>\n",
       "</table>\n",
       "</div>"
      ],
      "text/plain": [
       "                x          x2            x3            x4            y  \\\n",
       "count  260.000000  260.000000  2.600000e+02  2.600000e+02   260.000000   \n",
       "mean    10.060419  135.264356  2.044036e+03  3.291655e+04   491.932133   \n",
       "std      5.846691  121.146840  2.313183e+03  4.371458e+04   476.707355   \n",
       "min      0.007658    0.000059  4.490833e-07  3.439029e-09    20.571880   \n",
       "25%      4.905919   24.068179  1.180779e+02  5.792902e+02    54.504751   \n",
       "50%     10.250928  105.083439  1.077242e+03  1.104334e+04   336.645858   \n",
       "75%     15.400290  237.168945  3.652471e+03  5.624912e+04   878.638053   \n",
       "max     19.944509  397.783452  7.933596e+03  1.582317e+05  1577.193548   \n",
       "\n",
       "           y_noisy  \n",
       "count   260.000000  \n",
       "mean    492.434283  \n",
       "std     478.849813  \n",
       "min    -112.575294  \n",
       "25%      77.826912  \n",
       "50%     327.241317  \n",
       "75%     874.702202  \n",
       "max    1664.910364  "
      ]
     },
     "execution_count": 9,
     "metadata": {},
     "output_type": "execute_result"
    }
   ],
   "source": [
    "df.describe()"
   ]
  },
  {
   "cell_type": "code",
   "execution_count": 10,
   "metadata": {
    "collapsed": false
   },
   "outputs": [],
   "source": [
    "data_path =\\\n",
    "r'C:\\AWSMLCourse\\Data\\RegressionExamples\\quadratic_more_features'"
   ]
  },
  {
   "cell_type": "code",
   "execution_count": 11,
   "metadata": {
    "collapsed": false
   },
   "outputs": [],
   "source": [
    "df.to_csv(os.path.join(data_path,'quadratic_more_features_example_all.csv'),\n",
    "          index=True,index_label='Row')"
   ]
  },
  {
   "cell_type": "code",
   "execution_count": 12,
   "metadata": {
    "collapsed": true
   },
   "outputs": [],
   "source": [
    "df[df.index < 200].to_csv(os.path.join(data_path,'quadratic_more_features_example_train.csv'),\n",
    "                          index=True,index_label='Row',\n",
    "                          columns=['x','x2','x3','x4','y_noisy'])"
   ]
  },
  {
   "cell_type": "code",
   "execution_count": 13,
   "metadata": {
    "collapsed": false
   },
   "outputs": [],
   "source": [
    "df.to_csv(\n",
    "    os.path.join(data_path,'quadratic_more_features_example_test_all.csv'),\n",
    "    index=True,index_label='Row', columns=['x','x2','x3','x4'])"
   ]
  },
  {
   "cell_type": "code",
   "execution_count": 14,
   "metadata": {
    "collapsed": false
   },
   "outputs": [],
   "source": [
    "# Pull Predictions\n",
    "df = pd.read_csv(os.path.join(data_path,'quadratic_more_features_example_all.csv'), index_col='Row')\n",
    "df_more_features_predicted = pd.read_csv(\n",
    "    os.path.join(data_path,'output_more_features',\n",
    "    'bp-GjzZQ68DgJM-quadratic_more_features_example_test_all.csv.gz'))\n",
    "df_more_features_predicted.columns = [\"Row\",\"y_predicted\"]"
   ]
  },
  {
   "cell_type": "code",
   "execution_count": 15,
   "metadata": {
    "collapsed": false
   },
   "outputs": [
    {
     "data": {
      "text/plain": [
       "<matplotlib.legend.Legend at 0x27c226e3160>"
      ]
     },
     "execution_count": 15,
     "metadata": {},
     "output_type": "execute_result"
    },
    {
     "data": {
      "image/png": "[encoded data removed]",
      "text/plain": [
       "<matplotlib.figure.Figure at 0x27c22226550>"
      ]
     },
     "metadata": {},
     "output_type": "display_data"
    }
   ],
   "source": [
    "plt.scatter(x=df['x'],y=df['y_noisy'],color='b',label='actual', )\n",
    "plt.scatter(x=df['x'],y=df_more_features_predicted['y_predicted'],\n",
    "            color='g',label='Predicted before norm')\n",
    "plt.ylim((-500,2500))\n",
    "plt.title('AWS ML - Higher Order Polynomial Features')\n",
    "plt.xlabel('x')\n",
    "plt.ylabel('Target Attribute')\n",
    "plt.grid(True)\n",
    "plt.legend()"
   ]
  },
  {
   "cell_type": "code",
   "execution_count": 28,
   "metadata": {
    "collapsed": false
   },
   "outputs": [
    {
     "data": {
      "image/png": "[encoded data removed]",
      "text/plain": [
       "<matplotlib.figure.Figure at 0x27c22791438>"
      ]
     },
     "metadata": {},
     "output_type": "display_data"
    }
   ],
   "source": [
    "plt.boxplot([df.y_noisy,\n",
    "             df_more_features_predicted.y_predicted], \n",
    "            labels=['actual','predicted before norm'])\n",
    "plt.title('Box Plot - Actual, Predicted')\n",
    "plt.ylim((-500,5000))\n",
    "plt.ylabel('y')\n",
    "plt.grid(True)"
   ]
  },
  {
   "cell_type": "markdown",
   "metadata": {},
   "source": [
    "Training RMSE: 83973.66, Evaluation RMSE: 158260.62, Baseline RMSE: 437.31\n",
    "\n",
    "x3, x4 are very large compared to rest of the features.  These terms totally dominates the outcome."
   ]
  },
  {
   "cell_type": "code",
   "execution_count": 29,
   "metadata": {
    "collapsed": false
   },
   "outputs": [],
   "source": [
    "# Pull normalized predictions\n",
    "df_more_normalize_features_predicted = pd.read_csv(\n",
    "    os.path.join(data_path,'output_more_features_normalize',\n",
    "    'bp-maVk1BM3h0j-quadratic_more_features_example_test_all.csv.gz'))\n",
    "df_more_normalize_features_predicted.columns = [\"Row\",\"y_predicted\"]"
   ]
  },
  {
   "cell_type": "code",
   "execution_count": 32,
   "metadata": {
    "collapsed": false
   },
   "outputs": [
    {
     "data": {
      "text/plain": [
       "<matplotlib.legend.Legend at 0x27c23920a90>"
      ]
     },
     "execution_count": 32,
     "metadata": {},
     "output_type": "execute_result"
    },
    {
     "data": {
      "image/png": "[encoded data removed]",
      "text/plain": [
       "<matplotlib.figure.Figure at 0x27c238befd0>"
      ]
     },
     "metadata": {},
     "output_type": "display_data"
    }
   ],
   "source": [
    "plt.scatter(x=df['x'],y=df['y_noisy'],color='b',label='actual', )\n",
    "plt.scatter(x=df['x'],y=df_more_features_predicted['y_predicted'],\n",
    "            color='g',label='Prediction before norm')\n",
    "plt.scatter(x=df['x'],y=df_more_normalize_features_predicted['y_predicted'],\n",
    "           color='r',label='Prediction after norm')\n",
    "plt.ylim((-500,2500))\n",
    "plt.title('AWS ML - Higher Order Polynomial Features')\n",
    "plt.grid(True)\n",
    "plt.legend()"
   ]
  },
  {
   "cell_type": "markdown",
   "metadata": {
    "collapsed": true
   },
   "source": [
    " 1. Before Normalization: x3, x4 are very large and dominates the outcome.<br>\n",
    " Training RMSE: 83973.66, Evaluation RMSE: 158260.62, Baseline RMSE: 437.31\n",
    " 2. After normalization: all features have similar scale, range<br>\n",
    " Training RMSE: 72.35, Evaluation RMSE: 51.7387, Baseline RMSE: 437.31\n",
    " 3. Normalized features were able to fit target attribute better"
   ]
  },
  {
   "cell_type": "code",
   "execution_count": 33,
   "metadata": {
    "collapsed": false
   },
   "outputs": [
    {
     "data": {
      "image/png": "[encoded data removed]",
      "text/plain": [
       "<matplotlib.figure.Figure at 0x27c227b2eb8>"
      ]
     },
     "metadata": {},
     "output_type": "display_data"
    }
   ],
   "source": [
    "plt.boxplot([df.y_noisy,\n",
    "             df_more_features_predicted.y_predicted,\n",
    "             df_more_normalize_features_predicted.y_predicted], \n",
    "            labels=['actual','predicted before norm','predicted norm'])\n",
    "plt.title('Box Plot - Actual, Predicted')\n",
    "plt.ylim((-500,5000))\n",
    "plt.ylabel('y')\n",
    "plt.grid(True)"
   ]
  },
  {
   "cell_type": "markdown",
   "metadata": {},
   "source": [
    "<h4>Summary</h4>\n",
    "1. Having lot of features and complex features can help improve prediction accuracy\n",
    "2. When feature ranges are orders of magnitude different, it can dominate the outcome. Normalization is a process of transforming features to have a mean of 0 and variance of 1. This will ensure all feature have similar scale.\n",
    "3. Without Normalization:<br>\n",
    "Training RMSE: 83973.66, Evaluation RMSE: 158260.62, Baseline RMSE: 437.31\n",
    "4. With Normalization:<br>\n",
    "Training RMSE: 72.35, Evaluation RMSE: 51.7387, Baseline RMSE: 437.31\n",
    "5. Normalization can be easily enabled using AWS ML Transformation recipes"
   ]
  },
  {
   "cell_type": "markdown",
   "metadata": {},
   "source": [
    "<h4>Example Normalization Steps - for illustration. Use AWS ML provided capability</h4>\n",
    " normalized x_norm = (x - mean)/sigma,<br>\n",
    " where,<br>\n",
    " mean = mean of feature x<br>\n",
    " sigma = standard deviation of feature x"
   ]
  },
  {
   "cell_type": "code",
   "execution_count": 16,
   "metadata": {
    "collapsed": false
   },
   "outputs": [],
   "source": [
    "df_features = df[['x','x2','x3','x4']]"
   ]
  },
  {
   "cell_type": "code",
   "execution_count": 17,
   "metadata": {
    "collapsed": true
   },
   "outputs": [],
   "source": [
    "mean_values = df_features.mean(axis=0)"
   ]
  },
  {
   "cell_type": "code",
   "execution_count": 18,
   "metadata": {
    "collapsed": false
   },
   "outputs": [
    {
     "data": {
      "text/plain": [
       "x        10.060419\n",
       "x2      135.264356\n",
       "x3     2044.035826\n",
       "x4    32916.554522\n",
       "dtype: float64"
      ]
     },
     "execution_count": 18,
     "metadata": {},
     "output_type": "execute_result"
    }
   ],
   "source": [
    "mean_values"
   ]
  },
  {
   "cell_type": "code",
   "execution_count": 19,
   "metadata": {
    "collapsed": true
   },
   "outputs": [],
   "source": [
    "sigma_values = df_features.std(axis=0)"
   ]
  },
  {
   "cell_type": "code",
   "execution_count": 20,
   "metadata": {
    "collapsed": false
   },
   "outputs": [
    {
     "data": {
      "text/plain": [
       "x         5.846691\n",
       "x2      121.146840\n",
       "x3     2313.183019\n",
       "x4    43714.577231\n",
       "dtype: float64"
      ]
     },
     "execution_count": 20,
     "metadata": {},
     "output_type": "execute_result"
    }
   ],
   "source": [
    "sigma_values"
   ]
  },
  {
   "cell_type": "code",
   "execution_count": 21,
   "metadata": {
    "collapsed": false
   },
   "outputs": [],
   "source": [
    "df_features_norm = ((df_features - mean_values)/sigma_values)"
   ]
  },
  {
   "cell_type": "code",
   "execution_count": 22,
   "metadata": {
    "collapsed": false
   },
   "outputs": [
    {
     "name": "stdout",
     "output_type": "stream",
     "text": [
      "Range before normalization:\n",
      "x         19.936851\n",
      "x2       397.783394\n",
      "x3      7933.595779\n",
      "x4    158231.675055\n",
      "dtype: float64\n",
      "\n",
      "\n",
      "Range after normalization:\n",
      "x     3.409938\n",
      "x2    3.283481\n",
      "x3    3.429731\n",
      "x4    3.619655\n",
      "dtype: float64\n"
     ]
    }
   ],
   "source": [
    "print ('Range before normalization:\\n{0}'.format(df_features.max()- df_features.min()))\n",
    "print('\\n')\n",
    "print ('Range after normalization:\\n{0}'.format(df_features_norm.max()- df_features_norm.min()))"
   ]
  },
  {
   "cell_type": "code",
   "execution_count": 23,
   "metadata": {
    "collapsed": false
   },
   "outputs": [
    {
     "data": {
      "text/plain": [
       "x     4.891386e-16\n",
       "x2   -3.816392e-16\n",
       "x3   -6.725389e-17\n",
       "x4    1.404859e-16\n",
       "dtype: float64"
      ]
     },
     "execution_count": 23,
     "metadata": {},
     "output_type": "execute_result"
    }
   ],
   "source": [
    "df_features_norm.mean(axis=0)"
   ]
  },
  {
   "cell_type": "code",
   "execution_count": 24,
   "metadata": {
    "collapsed": false
   },
   "outputs": [
    {
     "data": {
      "text/plain": [
       "x     1.0\n",
       "x2    1.0\n",
       "x3    1.0\n",
       "x4    1.0\n",
       "dtype: float64"
      ]
     },
     "execution_count": 24,
     "metadata": {},
     "output_type": "execute_result"
    }
   ],
   "source": [
    "df_features_norm.std(axis=0)"
   ]
  },
  {
   "cell_type": "code",
   "execution_count": 25,
   "metadata": {
    "collapsed": false
   },
   "outputs": [
    {
     "data": {
      "text/plain": [
       "x        10.060419\n",
       "x2      135.264356\n",
       "x3     2044.035826\n",
       "x4    32916.554522\n",
       "dtype: float64"
      ]
     },
     "execution_count": 25,
     "metadata": {},
     "output_type": "execute_result"
    }
   ],
   "source": [
    "df_features.mean(axis=0)"
   ]
  },
  {
   "cell_type": "code",
   "execution_count": 26,
   "metadata": {
    "collapsed": false
   },
   "outputs": [
    {
     "data": {
      "text/plain": [
       "x         5.846691\n",
       "x2      121.146840\n",
       "x3     2313.183019\n",
       "x4    43714.577231\n",
       "dtype: float64"
      ]
     },
     "execution_count": 26,
     "metadata": {},
     "output_type": "execute_result"
    }
   ],
   "source": [
    "df_features.std(axis=0)"
   ]
  },
  {
   "cell_type": "code",
   "execution_count": null,
   "metadata": {
    "collapsed": true
   },
   "outputs": [],
   "source": []
  }
 ],
 "metadata": {
  "kernelspec": {
   "display_name": "Python 3",
   "language": "python",
   "name": "python3"
  },
  "language_info": {
   "codemirror_mode": {
    "name": "ipython",
    "version": 3
   },
   "file_extension": ".py",
   "mimetype": "text/x-python",
   "name": "python",
   "nbconvert_exporter": "python",
   "pygments_lexer": "ipython3",
   "version": "3.5.1"
  }
 },
 "nbformat": 4,
 "nbformat_minor": 0
}
